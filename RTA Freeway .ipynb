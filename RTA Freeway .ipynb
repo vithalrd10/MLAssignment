{
 "cells": [
  {
   "cell_type": "markdown",
   "metadata": {},
   "source": [
    "# RTA Freeway Machine learning\n"
   ]
  },
  {
   "cell_type": "code",
   "execution_count": 1,
   "metadata": {},
   "outputs": [],
   "source": [
    "import pandas as pd\n",
    "from sklearn.ensemble import RandomForestRegressor\n",
    "from sklearn.model_selection import train_test_split\n",
    "from sklearn import metrics\n",
    "import numpy as np"
   ]
  },
  {
   "cell_type": "markdown",
   "metadata": {},
   "source": [
    "#### Eliminating the entire column if empty cells are more than 10000."
   ]
  },
  {
   "cell_type": "code",
   "execution_count": 2,
   "metadata": {},
   "outputs": [],
   "source": [
    "def remove_nan_rows(dataframe):\n",
    "    for column in dataframe.columns:\n",
    "        if dataframe[column].isnull().sum() > 10000:\n",
    "            del dataframe[column]\n",
    "    return dataframe"
   ]
  },
  {
   "cell_type": "markdown",
   "metadata": {},
   "source": [
    "##### Splitting the data into different feature set. Year, Month, Day, Hour, Minute"
   ]
  },
  {
   "cell_type": "code",
   "execution_count": 3,
   "metadata": {},
   "outputs": [],
   "source": [
    "def spilt_date(list_of_date_string,date_separator='-',time_separator=':',format='yyyy-mm-dd hh:mm'):\n",
    "    month_list = list([])\n",
    "    day_list = list([])\n",
    "    year_list = list([])\n",
    "    hour_list = list([])\n",
    "    minute_list = list([])\n",
    "    for date_string in list_of_date_string:\n",
    "        timestamp_list = date_string.strip().split(' ')\n",
    "        date_list = timestamp_list[0].strip().split(date_separator)\n",
    "        month_list.append(int(date_list[1]))\n",
    "        day_list.append(int(date_list[2]))\n",
    "        year_list.append(int(date_list[0]))\n",
    "        time_list = timestamp_list[1].strip().split(time_separator)\n",
    "        hour_list.append(int(time_list[0]))\n",
    "        minute_list.append(int(time_list[1]))\n",
    "    return month_list,day_list,year_list,hour_list,minute_list"
   ]
  },
  {
   "cell_type": "markdown",
   "metadata": {},
   "source": [
    "##### Checking the column has numeric"
   ]
  },
  {
   "cell_type": "code",
   "execution_count": 4,
   "metadata": {},
   "outputs": [],
   "source": [
    "def isfloat(num):\n",
    "    try:\n",
    "        num = float(num)\n",
    "        return True\n",
    "    except ValueError:\n",
    "        return False"
   ]
  },
  {
   "cell_type": "markdown",
   "metadata": {},
   "source": [
    "##### Printing the accuracy and prediction"
   ]
  },
  {
   "cell_type": "code",
   "execution_count": 5,
   "metadata": {},
   "outputs": [],
   "source": [
    "def print_evaluation_metrics(trained_model,trained_model_name,X_test,y_test):\n",
    "    print('--------- For Model : ', trained_model_name ,' ---------\\n')\n",
    "    predicted_values = trained_model.predict(X_test)\n",
    "    print(\"Predicted Value : \", predicted_values)\n",
    " \n",
    "    print(\"Mean Absolute Error : \", metrics.mean_absolute_error(y_test,predicted_values))\n",
    "    print(\"Accuracy : \", metrics.accuracy_score(y_test.astype(int),predicted_values.astype(int)))\n",
    "    print(\"---------------------------------------\\n\")"
   ]
  },
  {
   "cell_type": "markdown",
   "metadata": {},
   "source": [
    "##### Reading the file, removing the non empty rows and columns. Splitting the datetime and putting into seperate list.\n",
    "##### After spliting the datetime into seperate feature remove the column from dataset."
   ]
  },
  {
   "cell_type": "code",
   "execution_count": 6,
   "metadata": {},
   "outputs": [],
   "source": [
    "#Read file\n",
    "data_file = 'RTAHistorical.csv'\n",
    "dataset = pd.read_csv(data_file)\n",
    "dataset = remove_nan_rows(dataset)\n",
    "dataset.dropna(inplace=True)\n",
    "\n",
    "#print(dataset.isnull().sum())\n",
    "#Split DateTime column\n",
    "dataset['month'],dataset['day'],dataset['year'],\\\n",
    "dataset['hour'],dataset['minute'] = spilt_date(list(dataset['Unnamed: 0'].values))\n",
    "#print(dataset)\n",
    "\n",
    "#spliting the Datetime column into day, month, year, hr, min\n",
    "del dataset['Unnamed: 0']   \n",
    "#print(dataset)\n",
    "\n"
   ]
  },
  {
   "cell_type": "markdown",
   "metadata": {},
   "source": [
    "###### Reading the data. iteration_target_frame contains column values means full segement values. iteration_feature_frame contain row values\n",
    "#####   means all segment of each row. \n",
    "###### Data is split with 80% train data and 20% test data\n",
    "###### Random Forest Regressor is used to predict the time taken to travel segment."
   ]
  },
  {
   "cell_type": "code",
   "execution_count": null,
   "metadata": {},
   "outputs": [
    {
     "name": "stdout",
     "output_type": "stream",
     "text": [
      "40010\n",
      "--------- For Model :  Random Forest  ---------\n",
      "\n",
      "Predicted Value :  [826.18313011 850.67815883 826.63764897 ... 804.14644696 811.75835056\n",
      " 824.16669915]\n",
      "Mean Absolute Error :  49.53764483685065\n",
      "Accuracy :  0.031187427947333292\n",
      "---------------------------------------\n",
      "\n",
      "40015\n",
      "--------- For Model :  Random Forest  ---------\n",
      "\n",
      "Predicted Value :  [209.86602134 221.36701183 208.12304276 ... 206.99353893 209.36462598\n",
      " 208.45530581]\n",
      "Mean Absolute Error :  16.9110669970084\n",
      "Accuracy :  0.09256113099933257\n",
      "---------------------------------------\n",
      "\n",
      "40020\n",
      "--------- For Model :  Random Forest  ---------\n",
      "\n",
      "Predicted Value :  [898.92624534 887.32267269 797.17037912 ... 786.59337068 799.8777151\n",
      " 787.30915269]\n",
      "Mean Absolute Error :  62.33166027916452\n",
      "Accuracy :  0.03413021054547661\n",
      "---------------------------------------\n",
      "\n",
      "40025\n",
      "--------- For Model :  Random Forest  ---------\n",
      "\n",
      "Predicted Value :  [321.1631116  291.93535293 242.21779807 ... 234.84359403 236.27241231\n",
      " 240.54415188]\n",
      "Mean Absolute Error :  19.252123929577\n",
      "Accuracy :  0.10715369213033189\n",
      "---------------------------------------\n",
      "\n",
      "40030\n",
      "--------- For Model :  Random Forest  ---------\n",
      "\n",
      "Predicted Value :  [356.23493597 264.9531645  229.8236492  ... 231.93319143 231.25290189\n",
      " 229.71421107]\n",
      "Mean Absolute Error :  19.697306599337658\n",
      "Accuracy :  0.09544323766761725\n",
      "---------------------------------------\n",
      "\n",
      "40035\n",
      "--------- For Model :  Random Forest  ---------\n",
      "\n",
      "Predicted Value :  [241.08979961 160.81393534 138.30024178 ... 141.29916222 139.35283934\n",
      " 141.93718813]\n",
      "Mean Absolute Error :  17.656297088757704\n",
      "Accuracy :  0.10636490504216978\n",
      "---------------------------------------\n",
      "\n",
      "40040\n",
      "--------- For Model :  Random Forest  ---------\n",
      "\n",
      "Predicted Value :  [1232.2337643   789.27193452  725.24595333 ...  710.1751136   710.54241199\n",
      "  729.53458889]\n",
      "Mean Absolute Error :  55.6966686377967\n",
      "Accuracy :  0.029973909350160793\n",
      "---------------------------------------\n",
      "\n",
      "40045\n",
      "--------- For Model :  Random Forest  ---------\n",
      "\n",
      "Predicted Value :  [1592.61164377 1127.47023495 1053.9700365  ... 1039.18647507 1053.08722764\n",
      " 1050.17990169]\n",
      "Mean Absolute Error :  50.13109999047918\n",
      "Accuracy :  0.02973120563072629\n",
      "---------------------------------------\n",
      "\n",
      "40050\n",
      "--------- For Model :  Random Forest  ---------\n",
      "\n",
      "Predicted Value :  [600.85871135 540.74873169 511.13282467 ... 507.2130368  506.43669715\n",
      " 510.1867316 ]\n",
      "Mean Absolute Error :  27.826281800182382\n",
      "Accuracy :  0.05667131848795583\n",
      "---------------------------------------\n",
      "\n",
      "40055\n"
     ]
    }
   ],
   "source": [
    "columns = dataset.columns\n",
    "column_list = list([])\n",
    "\n",
    "#print(columns)\n",
    "\n",
    "for c in columns:\n",
    "    if isfloat(c):\n",
    "        column_list.append(c)\n",
    "\n",
    "abc = list([])\n",
    "abc.append('month')\n",
    "abc.append('day')\n",
    "abc.append('year')\n",
    "abc.append('hour')\n",
    "abc.append('minute')\n",
    "\n",
    "for col in column_list:\n",
    "    print(col)\n",
    "    iteration_target_frame = dataset[col].values\n",
    "    iteration_feature_frame = dataset[abc].values\n",
    "    X_train,X_test,y_train,y_test = train_test_split(iteration_feature_frame,iteration_target_frame,test_size=0.2,random_state=42)\n",
    "    rf = RandomForestRegressor(n_estimators=51,min_samples_leaf=5,min_samples_split=3,random_state=42)\n",
    "    rf.fit(X_train,y_train)\n",
    "    print_evaluation_metrics(rf, \"Random Forest\", X_test,y_test)"
   ]
  },
  {
   "cell_type": "code",
   "execution_count": null,
   "metadata": {},
   "outputs": [],
   "source": []
  },
  {
   "cell_type": "code",
   "execution_count": null,
   "metadata": {},
   "outputs": [],
   "source": []
  }
 ],
 "metadata": {
  "kernelspec": {
   "display_name": "Python 3",
   "language": "python",
   "name": "python3"
  },
  "language_info": {
   "codemirror_mode": {
    "name": "ipython",
    "version": 3
   },
   "file_extension": ".py",
   "mimetype": "text/x-python",
   "name": "python",
   "nbconvert_exporter": "python",
   "pygments_lexer": "ipython3",
   "version": "3.6.5"
  }
 },
 "nbformat": 4,
 "nbformat_minor": 2
}
